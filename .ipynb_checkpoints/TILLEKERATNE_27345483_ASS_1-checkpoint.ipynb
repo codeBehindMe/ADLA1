{
 "cells": [
  {
   "cell_type": "markdown",
   "metadata": {},
   "source": [
    "# Assignment 1 :: Predictive modelling for house prices.\n",
    "\n",
    "\n",
    "Author :: Aruna Tillekeratne\n",
    "Student ID :: 27345483\n",
    "Revision :: R01\n",
    "Date :: 02/11/2016"
   ]
  },
  {
   "cell_type": "markdown",
   "metadata": {},
   "source": [
    "## Preliminaries\n",
    "This notebook has the use of some non-standard libraries. Their names an uses are breifly described below.\n",
    "\n",
    "**ggplot2** - Visualisation.\n",
    "\n",
    "**caret** - For regression training and parameter search.\n",
    "\n",
    "**corrplot** - Correlation plot visualisation.\n",
    "\n",
    "**plotly** - Visualisation."
   ]
  },
  {
   "cell_type": "code",
   "execution_count": 2,
   "metadata": {
    "collapsed": true
   },
   "outputs": [],
   "source": [
    "require(ggplot2)\n",
    "require(caret)\n",
    "require(corrplot)\n",
    "require(plotly)"
   ]
  },
  {
   "cell_type": "markdown",
   "metadata": {},
   "source": [
    "## Exploratory Data Analysis"
   ]
  }
 ],
 "metadata": {
  "kernelspec": {
   "display_name": "R",
   "language": "R",
   "name": "ir"
  },
  "language_info": {
   "codemirror_mode": "r",
   "file_extension": ".r",
   "mimetype": "text/x-r-source",
   "name": "R",
   "pygments_lexer": "r",
   "version": "3.3.0"
  }
 },
 "nbformat": 4,
 "nbformat_minor": 0
}
